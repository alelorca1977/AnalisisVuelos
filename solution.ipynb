{
  "nbformat": 4,
  "nbformat_minor": 0,
  "metadata": {
    "colab": {
      "name": "solution.ipynb",
      "provenance": [],
      "authorship_tag": "ABX9TyNg+vUdpsuVmSr9XoqqhC3v",
      "include_colab_link": true
    },
    "kernelspec": {
      "name": "python3",
      "display_name": "Python 3"
    },
    "language_info": {
      "name": "python"
    }
  },
  "cells": [
    {
      "cell_type": "markdown",
      "metadata": {
        "id": "view-in-github",
        "colab_type": "text"
      },
      "source": [
        "<a href=\"https://colab.research.google.com/github/alelorca1977/AnalisisVuelos/blob/main/solution.ipynb\" target=\"_parent\"><img src=\"https://colab.research.google.com/assets/colab-badge.svg\" alt=\"Open In Colab\"/></a>"
      ]
    },
    {
      "cell_type": "markdown",
      "source": [
        "# Análisis de vuelos y modelamiento predictivo de retrasos\n",
        "\n",
        "Autor: Alejandro Lorca\n",
        "\n",
        "### Resumen:\n",
        "\n",
        "\n",
        "1.   Carga del dataset\n",
        "2.   Análisis exploratorio\n",
        "3.   Limpieza y Preprocesamiento\n",
        "  *   Tratamiento de NA\n",
        "  *   Datos atípicos\n",
        "  *   Outliers\n",
        "  *   Generación de variables nuevas\n",
        "  *   Normalización de variables numéricas\n",
        "  *   Transformación de variables categóricas\n",
        "4.   Generación del modelo predictivo\n",
        "  *   Selección de atributos\n",
        "  *   Entrenamiento y test\n",
        "  *   Validación del modelo (AUC y confusion matrix)\n",
        "5.   Preguntas y Conclusiones\n",
        "\n",
        "\n",
        "\n",
        "\n"
      ],
      "metadata": {
        "id": "IYGrICNdl49K"
      }
    },
    {
      "cell_type": "code",
      "source": [
        ""
      ],
      "metadata": {
        "id": "vUfp9faV20pb"
      },
      "execution_count": null,
      "outputs": []
    }
  ]
}